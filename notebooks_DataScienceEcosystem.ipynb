{
  "metadata": {
    "language_info": {
      "name": ""
    },
    "kernelspec": {
      "name": "python",
      "display_name": "Python (Pyodide)",
      "language": "python"
    }
  },
  "nbformat_minor": 4,
  "nbformat": 4,
  "cells": [
    {
      "cell_type": "markdown",
      "source": "Data Science Tools and Ecosystem",
      "metadata": {}
    },
    {
      "cell_type": "markdown",
      "source": "In this notebook, Data Science Tools and Ecosystem are summarized.",
      "metadata": {}
    },
    {
      "cell_type": "markdown",
      "source": "Some of the popular languages that Data Scientists use are:\n1. Python \n2. R \n3. C",
      "metadata": {}
    },
    {
      "cell_type": "markdown",
      "source": "ome of the commonly used libraries used by Data Scientists include:\n1. Numpy \n2. Pandas \n3. Matplotlip\n4. Scikit-learn",
      "metadata": {}
    },
    {
      "cell_type": "markdown",
      "source": "|Data Science Tools|\n|---|\n|RStudio|\n|Apache Spark|\n|Apache Hadoop|",
      "metadata": {}
    },
    {
      "cell_type": "markdown",
      "source": "Below are a few examples of evaluating arithmetic expressions in Python: \n+\n-\n//\n/\n%\n**\n*",
      "metadata": {}
    },
    {
      "cell_type": "code",
      "source": "r = (3 * 4) + 5\nprint(r)",
      "metadata": {
        "trusted": true
      },
      "execution_count": null,
      "outputs": []
    },
    {
      "cell_type": "code",
      "source": "m = 200 \nh = m / 60\nprint(h)",
      "metadata": {
        "trusted": true
      },
      "execution_count": null,
      "outputs": []
    },
    {
      "cell_type": "markdown",
      "source": "**Objectives:**\n\n- List programming languages for Data Science.\n- Introduce common libraries and tools used in Data Science.\n- Being introduced to different development environment \n",
      "metadata": {}
    },
    {
      "cell_type": "code",
      "source": "## Author\nCassssssssss\n",
      "metadata": {},
      "execution_count": null,
      "outputs": []
    }
  ]
}